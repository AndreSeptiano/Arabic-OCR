{
 "cells": [
  {
   "cell_type": "code",
   "execution_count": 50,
   "id": "4aa9c7f1",
   "metadata": {},
   "outputs": [
    {
     "name": "stdout",
     "output_type": "stream",
     "text": [
      "GPU \t Memory\t Free\t         RAM\n",
      "0:\t 57.37%\t 17282 MiB\t 51 %\n",
      "1:\t 42.25%\t 23411 MiB\t 71 %\n",
      "2:\t 56.84%\t 17495 MiB\t 17 %\n",
      "3:\t 79.09%\t 8477 MiB\t 0 %\n",
      "4:\t 79.92%\t 8138 MiB\t 34 %\n",
      "5:\t 98.39%\t 651 MiB\t 0 %\n",
      "6:\t 43.88%\t 22751 MiB\t 0 %\n",
      "7:\t 71.29%\t 11637 MiB\t 34 %\n"
     ]
    }
   ],
   "source": [
    "!nvidia-smi --query-gpu=index,memory.used,memory.total,memory.free,utilization.gpu --format=csv,noheader | awk -F \",\" 'BEGIN{printf \"%-3s \\t%7s\\t%5s\\t%12s\\n\", \"GPU\", \"Memory\", \"Free\", \"RAM\"}{printf \"%s:\\t%6.2f%%\\t%7s\\t%s\\n\", $1, ($2/$3)*100, $4, $5}'"
   ]
  },
  {
   "cell_type": "code",
   "execution_count": 22,
   "id": "1486792e",
   "metadata": {},
   "outputs": [
    {
     "data": {
      "text/plain": [
       "0"
      ]
     },
     "execution_count": 22,
     "metadata": {},
     "output_type": "execute_result"
    }
   ],
   "source": [
    "# Memilih GPU yang akan digunakan (contohnya: GPU #7)\n",
    "import os\n",
    "os.environ['CUDA_VISIBLE_DEVICES'] = '2'\n",
    "torch.cuda.current_device()"
   ]
  },
  {
   "cell_type": "code",
   "execution_count": 16,
   "id": "704da65c",
   "metadata": {},
   "outputs": [],
   "source": [
    "cwd        = os.getcwd()\n",
    "output_dir = 'output/text'\n",
    "truth_dir  = 'truth'"
   ]
  },
  {
   "cell_type": "code",
   "execution_count": 21,
   "id": "5bc16704",
   "metadata": {},
   "outputs": [],
   "source": [
    "import torch\n",
    "import torch.nn as nn\n",
    "import torch.nn.functional as F\n",
    "import torch.nn.utils as utils\n",
    "import torch.optim as optim\n",
    "from torch.utils.data import DataLoader, Dataset\n",
    "from torchvision.transforms import transforms\n",
    "\n",
    "from PIL import Image\n",
    "\n",
    "import json\n",
    "import os\n",
    "import glob\n",
    "import re\n",
    "import datetime\n",
    "import shutil\n",
    "import pickle\n",
    "import unicodedata\n",
    "\n",
    "from functools import partial\n",
    "\n",
    "from tqdm import tqdm\n",
    "import matplotlib.pyplot as plt\n",
    "\n",
    "import numpy as np\n",
    "import random\n",
    "\n",
    "import matplotlib.pyplot as plt"
   ]
  },
  {
   "cell_type": "code",
   "execution_count": 48,
   "id": "92288d5d",
   "metadata": {},
   "outputs": [
    {
     "name": "stdout",
     "output_type": "stream",
     "text": [
      "100%|█████████████████████████████████████████████| 4/4 [00:47<00:00, 11.99s/it]\n",
      "total time to finish 4 images:\n",
      "47.94662022590637\n",
      "cara-praktek-sholat-ghoib-3.txt: 124\n",
      "capr12.txt: 1896\n",
      "capr14.txt: 1010\n",
      "pegon-mdcover.txt: 353\n",
      "Total distance = 3383\n",
      "Average Accuracy = 0.00%\n"
     ]
    }
   ],
   "source": [
    "!python3 OCR.py                             # Run OCR\n",
    "!python3 edit.py {output_dir} {truth_dir}   # Edit Distance between OCR Result and Ground Truth"
   ]
  },
  {
   "cell_type": "code",
   "execution_count": 46,
   "id": "92106eff",
   "metadata": {},
   "outputs": [
    {
     "data": {
      "text/plain": [
       "[('cara-praktek-sholat-ghoib-3.txt', 1.5777777777777777),\n",
       " ('capr12.txt', 1.717128027681661),\n",
       " ('capr14.txt', 1.8123924268502583),\n",
       " ('pegon-mdcover.txt', 1.0)]"
      ]
     },
     "execution_count": 46,
     "metadata": {},
     "output_type": "execute_result"
    }
   ],
   "source": [
    "# Using CER\n",
    "\n",
    "from jiwer import cer\n",
    "\n",
    "def eval(filename):\n",
    "    pred = open(f'output/text/{filename}','r')\n",
    "    true = open(f'truth/{filename}','r')\n",
    "    return cer(true.read(), pred.read())\n",
    "\n",
    "cers = [(filename, eval(filename)) for filename in os.listdir(output_dir)]\n",
    "cers"
   ]
  },
  {
   "cell_type": "code",
   "execution_count": null,
   "id": "150710e4",
   "metadata": {},
   "outputs": [],
   "source": []
  }
 ],
 "metadata": {
  "kernelspec": {
   "display_name": "venv",
   "language": "python",
   "name": "venv"
  },
  "language_info": {
   "codemirror_mode": {
    "name": "ipython",
    "version": 3
   },
   "file_extension": ".py",
   "mimetype": "text/x-python",
   "name": "python",
   "nbconvert_exporter": "python",
   "pygments_lexer": "ipython3",
   "version": "3.8.12"
  }
 },
 "nbformat": 4,
 "nbformat_minor": 5
}
